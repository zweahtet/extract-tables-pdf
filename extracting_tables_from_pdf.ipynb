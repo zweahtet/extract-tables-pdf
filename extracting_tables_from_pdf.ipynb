{
  "nbformat": 4,
  "nbformat_minor": 0,
  "metadata": {
    "colab": {
      "provenance": [],
      "authorship_tag": "ABX9TyPAFh/5moRleQAOcvFvLo8y",
      "include_colab_link": true
    },
    "kernelspec": {
      "name": "python3",
      "display_name": "Python 3"
    },
    "language_info": {
      "name": "python"
    }
  },
  "cells": [
    {
      "cell_type": "markdown",
      "metadata": {
        "id": "view-in-github",
        "colab_type": "text"
      },
      "source": [
        "<a href=\"https://colab.research.google.com/github/zweahtet/extract-tables-pdf/blob/main/extracting_tables_from_pdf.ipynb\" target=\"_parent\"><img src=\"https://colab.research.google.com/assets/colab-badge.svg\" alt=\"Open In Colab\"/></a>"
      ]
    },
    {
      "cell_type": "markdown",
      "source": [
        "## Camelot\n",
        "- https://camelot-py.readthedocs.io/en/master/user/advanced.html"
      ],
      "metadata": {
        "id": "ppeeFgeEkfCP"
      }
    },
    {
      "cell_type": "code",
      "execution_count": null,
      "metadata": {
        "colab": {
          "base_uri": "https://localhost:8080/"
        },
        "id": "dBUOz62zTlpr",
        "outputId": "c7e38d15-a78d-47dd-d922-ce0c6ecd50ff"
      },
      "outputs": [
        {
          "output_type": "stream",
          "name": "stdout",
          "text": [
            "Looking in indexes: https://pypi.org/simple, https://us-python.pkg.dev/colab-wheels/public/simple/\n",
            "Requirement already satisfied: camelot-py in /usr/local/lib/python3.9/dist-packages (0.11.0)\n",
            "Requirement already satisfied: click>=6.7 in /usr/local/lib/python3.9/dist-packages (from camelot-py) (8.1.3)\n",
            "Requirement already satisfied: pandas>=0.23.4 in /usr/local/lib/python3.9/dist-packages (from camelot-py) (1.5.3)\n",
            "Requirement already satisfied: openpyxl>=2.5.8 in /usr/local/lib/python3.9/dist-packages (from camelot-py) (3.0.10)\n",
            "Requirement already satisfied: chardet>=3.0.4 in /usr/local/lib/python3.9/dist-packages (from camelot-py) (4.0.0)\n",
            "Requirement already satisfied: pypdf>=3.0.0 in /usr/local/lib/python3.9/dist-packages (from camelot-py) (3.8.0)\n",
            "Requirement already satisfied: numpy>=1.13.3 in /usr/local/lib/python3.9/dist-packages (from camelot-py) (1.22.4)\n",
            "Requirement already satisfied: tabulate>=0.8.9 in /usr/local/lib/python3.9/dist-packages (from camelot-py) (0.8.10)\n",
            "Requirement already satisfied: pdfminer.six>=20200726 in /usr/local/lib/python3.9/dist-packages (from camelot-py) (20221105)\n",
            "Requirement already satisfied: et-xmlfile in /usr/local/lib/python3.9/dist-packages (from openpyxl>=2.5.8->camelot-py) (1.1.0)\n",
            "Requirement already satisfied: pytz>=2020.1 in /usr/local/lib/python3.9/dist-packages (from pandas>=0.23.4->camelot-py) (2022.7.1)\n",
            "Requirement already satisfied: python-dateutil>=2.8.1 in /usr/local/lib/python3.9/dist-packages (from pandas>=0.23.4->camelot-py) (2.8.2)\n",
            "Requirement already satisfied: cryptography>=36.0.0 in /usr/local/lib/python3.9/dist-packages (from pdfminer.six>=20200726->camelot-py) (40.0.2)\n",
            "Requirement already satisfied: charset-normalizer>=2.0.0 in /usr/local/lib/python3.9/dist-packages (from pdfminer.six>=20200726->camelot-py) (2.0.12)\n",
            "Requirement already satisfied: typing_extensions>=3.10.0.0 in /usr/local/lib/python3.9/dist-packages (from pypdf>=3.0.0->camelot-py) (4.5.0)\n",
            "Requirement already satisfied: cffi>=1.12 in /usr/local/lib/python3.9/dist-packages (from cryptography>=36.0.0->pdfminer.six>=20200726->camelot-py) (1.15.1)\n",
            "Requirement already satisfied: six>=1.5 in /usr/local/lib/python3.9/dist-packages (from python-dateutil>=2.8.1->pandas>=0.23.4->camelot-py) (1.16.0)\n",
            "Requirement already satisfied: pycparser in /usr/local/lib/python3.9/dist-packages (from cffi>=1.12->cryptography>=36.0.0->pdfminer.six>=20200726->camelot-py) (2.21)\n",
            "Reading package lists... Done\n",
            "Building dependency tree       \n",
            "Reading state information... Done\n",
            "ghostscript is already the newest version (9.50~dfsg-5ubuntu4.7).\n",
            "0 upgraded, 0 newly installed, 0 to remove and 24 not upgraded.\n",
            "Looking in indexes: https://pypi.org/simple, https://us-python.pkg.dev/colab-wheels/public/simple/\n",
            "Requirement already satisfied: ghostscript in /usr/local/lib/python3.9/dist-packages (0.7)\n",
            "Requirement already satisfied: setuptools>=38.6.0 in /usr/local/lib/python3.9/dist-packages (from ghostscript) (67.6.1)\n"
          ]
        }
      ],
      "source": [
        "!pip install camelot-py\n",
        "!apt-get install -y ghostscript && pip install -U ghostscript"
      ]
    },
    {
      "cell_type": "code",
      "source": [
        "from ctypes.util import find_library\n",
        "find_library(\"gs\")"
      ],
      "metadata": {
        "colab": {
          "base_uri": "https://localhost:8080/",
          "height": 38
        },
        "id": "kRgjHNCIW4VU",
        "outputId": "6d2fdbb8-d157-4771-b483-4b991baf29f2"
      },
      "execution_count": null,
      "outputs": [
        {
          "output_type": "execute_result",
          "data": {
            "text/plain": [
              "'libgs.so.9'"
            ],
            "application/vnd.google.colaboratory.intrinsic+json": {
              "type": "string"
            }
          },
          "metadata": {},
          "execution_count": 6
        }
      ]
    },
    {
      "cell_type": "code",
      "source": [
        "import camelot\n",
        "\n",
        "tables = camelot.read_pdf('calregs.pdf', pages=\"18-end\")"
      ],
      "metadata": {
        "id": "fphxZEP_UHyM"
      },
      "execution_count": null,
      "outputs": []
    },
    {
      "cell_type": "code",
      "source": [
        "len(tables)"
      ],
      "metadata": {
        "colab": {
          "base_uri": "https://localhost:8080/"
        },
        "id": "F-wRb3VNehzS",
        "outputId": "3de10bce-20ad-4d30-f8c6-84f70ae3856d"
      },
      "execution_count": null,
      "outputs": [
        {
          "output_type": "execute_result",
          "data": {
            "text/plain": [
              "108"
            ]
          },
          "metadata": {},
          "execution_count": 19
        }
      ]
    },
    {
      "cell_type": "markdown",
      "source": [
        "## Export the tables to a zip file"
      ],
      "metadata": {
        "id": "ettfA6BtkHuE"
      }
    },
    {
      "cell_type": "code",
      "source": [
        "tables.export(path='calregs_tables.csv', f='csv', compress=True)"
      ],
      "metadata": {
        "id": "DrymD6VvUpCJ"
      },
      "execution_count": null,
      "outputs": []
    },
    {
      "cell_type": "code",
      "source": [],
      "metadata": {
        "id": "odA2-H1megu-"
      },
      "execution_count": null,
      "outputs": []
    }
  ]
}